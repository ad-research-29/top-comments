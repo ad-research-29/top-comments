{
 "cells": [
  {
   "cell_type": "markdown",
   "metadata": {},
   "source": [
    "# In this Python script, we will focus on comments on a YouTube video posted by Amazon to show you how to use the proposed approach. \n",
    "\n",
    "# First, download all the comments as well as metadata (number of likes, submission time) on a campaign. In this example, all the information is saved in an Excel file called Amazon_processed.xlsx \n",
    "\n",
    "# Second, use a machine learning algorithm (e.g., LDA) or human raters to assign a topic for each comment.\n",
    "\n",
    "# Third, create an Excel (or CSV) file that has the following columns: comment ( each comment content), like (number of likes), Dominant_topic (the main topic of each comment; it's a number that stands for the main topic), and time_order (organize the comments from the oldest to the most recent, assign number 1 to the first comment, etc.).\n",
    "\n",
    "# Last, when running this script, replace Amazon_processed.xlsx with your own file that has the necessary columns."
   ]
  },
  {
   "cell_type": "code",
   "execution_count": 1,
   "metadata": {},
   "outputs": [
    {
     "name": "stderr",
     "output_type": "stream",
     "text": [
      "100%|██████████| 111/111 [00:00<00:00, 1048.55it/s]\n",
      "100%|██████████| 111/111 [00:00<00:00, 1859.04it/s]\n",
      "100%|██████████| 111/111 [00:00<00:00, 1354.23it/s]\n",
      "100%|██████████| 122/122 [00:00<00:00, 9766.30it/s]\n",
      "100%|██████████| 111/111 [00:00<00:00, 1246.93it/s]\n",
      "100%|██████████| 122/122 [00:00<00:00, 11030.50it/s]\n",
      "100%|██████████| 111/111 [00:00<00:00, 1273.58it/s]\n",
      "100%|██████████| 111/111 [00:00<00:00, 1075.61it/s]\n",
      "100%|██████████| 122/122 [00:00<00:00, 11239.84it/s]\n",
      "100%|██████████| 111/111 [00:00<00:00, 1255.95it/s]\n",
      "100%|██████████| 122/122 [00:00<00:00, 7410.22it/s]\n",
      "122it [00:00, 119250.78it/s]\n"
     ]
    },
    {
     "name": "stdout",
     "output_type": "stream",
     "text": [
      "==================Done==================\n"
     ]
    }
   ],
   "source": [
    "#generate the list of top comment topics and the most salient top comment topic for each commenter\n",
    "\n",
    "import numpy as np\n",
    "import pandas as pd\n",
    "from tqdm import tqdm\n",
    "from collections import Counter\n",
    "\n",
    "def generate_start_list(n):#from commenter 1 to 11, their faced top comments will be the first 10 comments\n",
    "    start_list = []\n",
    "    for i in range(n):\n",
    "        start_list.append(i)\n",
    "    return start_list\n",
    "    \n",
    "def topic_index_list(df,n):#generate index list for n top comments with the largest likes in the past (from largest to smallest) \n",
    "    topic_list=[]\n",
    "    for i in range(n+1):\n",
    "        topic_list.append(generate_start_list(n)) \n",
    "    #when two comments have the same number of likes, the most recent one is kept     \n",
    "    for i in tqdm(range(n+1,len(df['like']))):\n",
    "        #get the indexes for the n largest values(from largest to smalles) from df.like[:i]\n",
    "        index_list=np.argsort(df.like[:i])[-n:].tolist()[::-1] \n",
    "        topic_list.append(index_list)\n",
    "    return topic_list\n",
    "\n",
    "\n",
    "def topic_list(df,n):#generate a comment list for n top comments with the largest likes in the past (from largest to smallest) \n",
    "    topic_type_list = [[df['Dominant_Topic'][i] for i in topic_index] for topic_index in topic_index_list(df,n)]\n",
    "    return topic_type_list\n",
    "\n",
    "def most_salient(lst): #generate topic_weight_dict in which key is each unique comment topic and value is sum of weighted index \n",
    "    topic_weight_dict={}\n",
    "    values=np.array(lst[::-1])\n",
    "    for item in set(lst):\n",
    "        index_array=np.where(values == item)[0]\n",
    "        index_array_new=np.asarray(index_array)+1 #assign weight of 10 to 1st top comment (with the largest likes),9 to the 2nd\n",
    "        topic_weight_dict[item]=np.sum(index_array_new)#for each top comment type, sum all the weights\n",
    "        \n",
    "    return topic_weight_dict\n",
    "\n",
    "def generate_most_salient_comment(df,n): #select the top comment topic with the largest summed weights\n",
    "    top_comment_type=[]\n",
    "    for item in tqdm(topic_list(df,n)):\n",
    "        topic_weight_dict=most_salient(item)\n",
    "        topic=max(topic_weight_dict, key=topic_weight_dict.get)\n",
    "        top_comment_type.append(topic)\n",
    "    return top_comment_type\n",
    "\n",
    "def check_topic_with_same_weight(df,n):\n",
    "    #generate a list of top comment topics with the same summed weights, ranging from the ones with largest to smallest weights\n",
    "    topic_duplicate_weight=[]\n",
    "    for item in tqdm(topic_list(df,n)):\n",
    "        topic_weight_dict=most_salient(item)\n",
    "        rev_multidict = {}\n",
    "        for key, value in topic_weight_dict.items():\n",
    "            rev_multidict.setdefault(value, set()).add(key)\n",
    "        duplicate_lst=[values for key, values in rev_multidict.items() if len(values) > 1]\n",
    "        topic_duplicate_weight.append(duplicate_lst)\n",
    "    return topic_duplicate_weight\n",
    "\n",
    "def refined_most_salient_comment(df,n):#select the top comment topic with the largest summed weights and least topic list index\n",
    "    refined_most_salient=[]\n",
    "    cat_list=zip(topic_list(df,n),generate_most_salient_comment(df,n),check_topic_with_same_weight(df,n))\n",
    "    for item in tqdm(cat_list): #eacm item is a tuple of three elements:a topic list,salient topic,and a list of duplicate topics\n",
    "        if len(item[2])>0:#if there are duplicate topics with the same weight\n",
    "            if item[1] in item[2][0]: #if the most salient number is the same as any duplicate topic with large weight\n",
    "                index_list=[]\n",
    "                for topic in item[2][0]:\n",
    "                    index_list.append(item[0].index(topic))\n",
    "                salient_topic=item[0][min(index_list)]    \n",
    "                refined_most_salient.append(salient_topic) \n",
    "            else:\n",
    "                salient_topic=item[1] \n",
    "                refined_most_salient.append(salient_topic)\n",
    "        else: \n",
    "            salient_topic=item[1] \n",
    "            refined_most_salient.append(salient_topic)\n",
    "    return refined_most_salient\n",
    "\n",
    "if __name__ == '__main__':\n",
    "    df = pd.read_excel('Amazon_processed.xlsx',encoding='utf-8') \n",
    "    n = 10\n",
    "    df['top_comment_index']=topic_index_list(df,n)\n",
    "    df['top_comment_topic']=topic_list(df,n)\n",
    "    df['most_salient_comment_topic']=generate_most_salient_comment(df,n)\n",
    "    df['topic_with_duplicate_weight']=check_topic_with_same_weight(df,n)\n",
    "    df['refined_most_salient_comment']=refined_most_salient_comment(df,n)\n",
    "    df.to_excel('Amazon_processed.xlsx',encoding='utf-8') \n",
    "    print('==================Done==================')\n",
    "    "
   ]
  },
  {
   "cell_type": "code",
   "execution_count": 2,
   "metadata": {},
   "outputs": [
    {
     "name": "stderr",
     "output_type": "stream",
     "text": [
      "100%|██████████| 122/122 [00:00<?, ?it/s]\n",
      "100%|██████████| 122/122 [00:00<00:00, 125664.31it/s]\n",
      "100%|██████████| 122/122 [00:00<?, ?it/s]\n",
      "100%|██████████| 122/122 [00:00<00:00, 122446.78it/s]\n",
      "100%|██████████| 122/122 [00:00<00:00, 122446.78it/s]\n"
     ]
    },
    {
     "name": "stdout",
     "output_type": "stream",
     "text": [
      "==================Done==================\n"
     ]
    }
   ],
   "source": [
    "#for each top comment topic, generate the cumalative number of top comment topic falling into this topic over time\n",
    "import pandas as pd\n",
    "from tqdm import tqdm\n",
    "\n",
    "def generate_cumulative_topic(df):\n",
    "    cumulative_topic=[]\n",
    "    score=0\n",
    "    for item in tqdm(df['refined_most_salient_comment']):\n",
    "        if item==n:\n",
    "            score+=1\n",
    "            cumulative_topic.append(score)\n",
    "        else:\n",
    "            cumulative_topic.append(score)\n",
    "\n",
    "    return cumulative_topic\n",
    "\n",
    "if __name__ == '__main__':\n",
    "    df = pd.read_excel('Amazon_processed.xlsx',encoding='utf-8')\n",
    "    for n in [0,1,2,3,4]:\n",
    "        df['cumulative_topic_{}'.format(n)]=generate_cumulative_topic(df)\n",
    "    df.to_excel('Amazon_processed.xlsx',encoding='utf-8')\n",
    "    print('==================Done==================')"
   ]
  },
  {
   "cell_type": "code",
   "execution_count": 3,
   "metadata": {},
   "outputs": [
    {
     "data": {
      "image/png": "[encoded data removed]",
      "text/plain": [
       "<Figure size 540x396 with 1 Axes>"
      ]
     },
     "metadata": {
      "needs_background": "light"
     },
     "output_type": "display_data"
    }
   ],
   "source": [
    "#Generate figure 1\n",
    "\n",
    "import matplotlib.pyplot as plt\n",
    "import pandas as pd\n",
    "\n",
    "\n",
    "df = pd.read_excel('Amazon_processed.xlsx',encoding='utf-8')\n",
    "#does not consider the first 10 commenters who were not exposed to 10 top comments\n",
    "df=df[df['time_order']>11]\n",
    "\n",
    "#plt.rcParams[\"font.family\"] = \"Times New Roman\"\n",
    "\n",
    "# line 1 points\n",
    "x1 = df['time_order']\n",
    "y1 = df['cumulative_topic_0']\n",
    "# plotting the line 1 points \n",
    "plt.plot(x1, y1, label = \"Topic 1\")\n",
    "\n",
    "# line 2 points\n",
    "x2 = df['time_order']\n",
    "y2 = df['cumulative_topic_1']\n",
    "# plotting the line 2 points \n",
    "plt.plot(x2, y2, label = \"Topic 2\")\n",
    "\n",
    "# line 3 points\n",
    "x2 = df['time_order']\n",
    "y2 = df['cumulative_topic_2']\n",
    "# plotting the line 2 points \n",
    "plt.plot(x2, y2, label = \"Topic 3\")\n",
    "\n",
    "# line 4 points\n",
    "x2 = df['time_order']\n",
    "y2 = df['cumulative_topic_3']\n",
    "# plotting the line 2 points \n",
    "plt.plot(x2, y2, label = \"Topic 4\")\n",
    "\n",
    "# line 4 points\n",
    "x2 = df['time_order']\n",
    "y2 = df['cumulative_topic_4']\n",
    "# plotting the line 2 points \n",
    "plt.plot(x2, y2, label = \"Topic 5\")\n",
    "\n",
    "\n",
    "plt.xlabel('Comment Order',fontweight='bold')\n",
    "# Set the y axis label of the current axis.\n",
    "plt.ylabel('Cumulative Top Comment Norm',fontweight='bold')\n",
    "# Set a title of the current axes.\n",
    "#plt.title('Cumulative Top Comment Norm Falling into Each Topic Type Over Time',style='italic')\n",
    "# show a legend on the plot\n",
    "plt.legend()\n",
    "\n",
    "#set the size of the figure\n",
    "fig = plt.gcf()\n",
    "fig.set_size_inches(7.5, 5.5)\n",
    "\n",
    "\n",
    "# Display a figure.\n",
    "plt.show()"
   ]
  },
  {
   "cell_type": "code",
   "execution_count": null,
   "metadata": {},
   "outputs": [],
   "source": []
  }
 ],
 "metadata": {
  "kernelspec": {
   "display_name": "Python 3",
   "language": "python",
   "name": "python3"
  },
  "language_info": {
   "codemirror_mode": {
    "name": "ipython",
    "version": 3
   },
   "file_extension": ".py",
   "mimetype": "text/x-python",
   "name": "python",
   "nbconvert_exporter": "python",
   "pygments_lexer": "ipython3",
   "version": "3.7.6"
  }
 },
 "nbformat": 4,
 "nbformat_minor": 4
}
